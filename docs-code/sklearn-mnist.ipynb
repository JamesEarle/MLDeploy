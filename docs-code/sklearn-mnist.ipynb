{
 "cells": [
  {
   "cell_type": "code",
   "execution_count": 3,
   "metadata": {},
   "outputs": [
    {
     "name": "stdout",
     "output_type": "stream",
     "text": [
      "0.1.74\n"
     ]
    }
   ],
   "source": [
    "# https://docs.microsoft.com/en-us/azure/machine-learning/service/quickstart-create-workspace-with-python\n",
    "\n",
    "import azureml.core\n",
    "print(azureml.core.VERSION)"
   ]
  },
  {
   "cell_type": "code",
   "execution_count": 4,
   "metadata": {},
   "outputs": [
    {
     "data": {
      "text/plain": [
       "{'id': '/subscriptions/b7442be7-20fd-472a-ad3b-407b9510af5a/resourceGroups/MLDeploy-docs/providers/Microsoft.MachineLearningServices/workspaces/mldeploydocs',\n",
       " 'name': 'mldeploydocs',\n",
       " 'type': 'Microsoft.MachineLearningServices/workspaces',\n",
       " 'location': 'eastus2',\n",
       " 'identity': {'principal_id': '7c3d75df-b787-461a-99f6-1f38563e9c3c',\n",
       "  'tenant_id': '72f988bf-86f1-41af-91ab-2d7cd011db47',\n",
       "  'type': 'SystemAssigned'}}"
      ]
     },
     "execution_count": 4,
     "metadata": {},
     "output_type": "execute_result"
    }
   ],
   "source": [
    "import os\n",
    "from azureml.core import Workspace\n",
    "\n",
    "rg = \"MLDeploy-docs\"\n",
    "ws_name = \"mldeploydocs\"\n",
    "loc = \"eastus2\"\n",
    "sub_key = os.getenv(\"AZURE_SUBSCRIPTION\")\n",
    "\n",
    "try: # Try to get, if it fails create a new one\n",
    "    ws = Workspace.get(ws_name, subscription_id=sub_key)\n",
    "except:\n",
    "    ws = Workspace.create(name=ws_name,\n",
    "                          subscription_id=sub_key,\n",
    "                          resource_group=rg,\n",
    "                          create_resource_group=False,\n",
    "                          location=loc)\n",
    "    # Save workspace details in aml_config/config.json\n",
    "    ws.write_config() # use ws = Workspace.from_config() in the future \n",
    "ws.get_details()"
   ]
  },
  {
   "cell_type": "code",
   "execution_count": 5,
   "metadata": {},
   "outputs": [
    {
     "name": "stderr",
     "output_type": "stream",
     "text": [
      "c:\\users\\jaearle\\appdata\\local\\continuum\\miniconda3\\envs\\myenv\\lib\\site-packages\\sklearn\\linear_model\\logistic.py:432: FutureWarning: Default solver will be changed to 'lbfgs' in 0.22. Specify a solver to silence this warning.\n",
      "  FutureWarning)\n",
      "c:\\users\\jaearle\\appdata\\local\\continuum\\miniconda3\\envs\\myenv\\lib\\site-packages\\sklearn\\linear_model\\logistic.py:459: FutureWarning: Default multi_class will be changed to 'auto' in 0.22. Specify the multi_class option to silence this warning.\n",
      "  \"this warning.\", FutureWarning)\n"
     ]
    },
    {
     "name": "stdout",
     "output_type": "stream",
     "text": [
      "0.9202\n"
     ]
    }
   ],
   "source": [
    "from azureml.core import Experiment\n",
    "from keras.datasets import mnist\n",
    "from sklearn.linear_model import LogisticRegression\n",
    "import numpy as np\n",
    "\n",
    "# Sample experiment and logging\n",
    "exp = Experiment(workspace=ws, name='sklearn-mnist')\n",
    "\n",
    "run = exp.start_logging()\n",
    "(X_train, y_train), (X_test, y_test) = mnist.load_data()\n",
    "\n",
    "# Flatten image data, current shape is (nsamples, 28, 28), we want (nsamples, 28*28,)\n",
    "X_train = X_train.reshape((len(X_train), 28*28))\n",
    "X_test = X_test.reshape((len(X_test), 28*28))\n",
    "\n",
    "# # Then we normalize our channel data.\n",
    "X_train = X_train.astype('float32') / 255\n",
    "X_test = X_test.astype('float32') / 255\n",
    "\n",
    "clf = LogisticRegression(random_state=42)\n",
    "clf.fit(X_train, y_train)\n",
    "acc = np.average(clf.predict(X_test) == y_test)\n",
    "print(acc)"
   ]
  },
  {
   "cell_type": "code",
   "execution_count": 6,
   "metadata": {},
   "outputs": [
    {
     "data": {
      "text/plain": [
       "'https://mlworkspace.azure.ai/portal/subscriptions/b7442be7-20fd-472a-ad3b-407b9510af5a/resourceGroups/MLDeploy-docs/providers/Microsoft.MachineLearningServices/workspaces/mldeploydocs/experiments/sklearn-mnist/runs/46750002-dd3c-4309-875f-098a4f08ef79'"
      ]
     },
     "execution_count": 6,
     "metadata": {},
     "output_type": "execute_result"
    }
   ],
   "source": [
    "run.log(\"seed\", 42)\n",
    "run.log(\"accuracy\", acc)\n",
    "run.complete()\n",
    "run.get_portal_url()"
   ]
  },
  {
   "cell_type": "code",
   "execution_count": null,
   "metadata": {},
   "outputs": [],
   "source": []
  }
 ],
 "metadata": {
  "kernelspec": {
   "display_name": "Python 3",
   "language": "python",
   "name": "python3"
  },
  "language_info": {
   "codemirror_mode": {
    "name": "ipython",
    "version": 3
   },
   "file_extension": ".py",
   "mimetype": "text/x-python",
   "name": "python",
   "nbconvert_exporter": "python",
   "pygments_lexer": "ipython3",
   "version": "3.6.7"
  }
 },
 "nbformat": 4,
 "nbformat_minor": 2
}
