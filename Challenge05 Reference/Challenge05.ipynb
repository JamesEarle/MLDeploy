{
 "cells": [
  {
   "cell_type": "code",
   "execution_count": 8,
   "metadata": {},
   "outputs": [],
   "source": [
    "# import sys\n",
    "# ! {sys.executable} -m pip install keras tensorflow"
   ]
  },
  {
   "cell_type": "code",
   "execution_count": 17,
   "metadata": {},
   "outputs": [
    {
     "name": "stderr",
     "output_type": "stream",
     "text": [
      "Python 3.6.5 :: Anaconda, Inc.\n"
     ]
    }
   ],
   "source": [
    "! {sys.executable} --version"
   ]
  },
  {
   "cell_type": "code",
   "execution_count": 18,
   "metadata": {},
   "outputs": [
    {
     "ename": "ModuleNotFoundError",
     "evalue": "No module named 'azureml.core'",
     "output_type": "error",
     "traceback": [
      "\u001b[1;31m---------------------------------------------------------------------------\u001b[0m",
      "\u001b[1;31mModuleNotFoundError\u001b[0m                       Traceback (most recent call last)",
      "\u001b[1;32m<ipython-input-18-adbf5df318e3>\u001b[0m in \u001b[0;36m<module>\u001b[1;34m()\u001b[0m\n\u001b[0;32m      4\u001b[0m \u001b[1;32mfrom\u001b[0m \u001b[0mkeras\u001b[0m\u001b[1;33m.\u001b[0m\u001b[0mmodels\u001b[0m \u001b[1;32mimport\u001b[0m \u001b[0mload_model\u001b[0m\u001b[1;33m\u001b[0m\u001b[0m\n\u001b[0;32m      5\u001b[0m \u001b[1;33m\u001b[0m\u001b[0m\n\u001b[1;32m----> 6\u001b[1;33m \u001b[1;32mfrom\u001b[0m \u001b[0mazureml\u001b[0m\u001b[1;33m.\u001b[0m\u001b[0mcore\u001b[0m \u001b[1;32mimport\u001b[0m \u001b[0mWorkspace\u001b[0m\u001b[1;33m\u001b[0m\u001b[0m\n\u001b[0m\u001b[0;32m      7\u001b[0m \u001b[1;32mfrom\u001b[0m \u001b[0mazureml\u001b[0m\u001b[1;33m.\u001b[0m\u001b[0mcore\u001b[0m\u001b[1;33m.\u001b[0m\u001b[0mmodel\u001b[0m \u001b[1;32mimport\u001b[0m \u001b[0mModel\u001b[0m\u001b[1;33m\u001b[0m\u001b[0m\n\u001b[0;32m      8\u001b[0m \u001b[1;32mfrom\u001b[0m \u001b[0mazureml\u001b[0m\u001b[1;33m.\u001b[0m\u001b[0mcore\u001b[0m\u001b[1;33m.\u001b[0m\u001b[0mimage\u001b[0m \u001b[1;32mimport\u001b[0m \u001b[0mContainerImage\u001b[0m\u001b[1;33m\u001b[0m\u001b[0m\n",
      "\u001b[1;31mModuleNotFoundError\u001b[0m: No module named 'azureml.core'"
     ]
    }
   ],
   "source": [
    "import os\n",
    "import numpy as np\n",
    "\n",
    "from keras.models import load_model\n",
    "\n",
    "from azureml.core import Workspace\n",
    "from azureml.core.model import Model\n",
    "from azureml.core.image import ContainerImage\n",
    "from azureml.core.webservice import Webservice\n",
    "from azureml.core.webservice import AciWebservice"
   ]
  },
  {
   "cell_type": "code",
   "execution_count": 16,
   "metadata": {},
   "outputs": [
    {
     "name": "stdout",
     "output_type": "stream",
     "text": [
      "Collecting azureml-sdk[automl,notebooks]\n",
      "  Using cached https://files.pythonhosted.org/packages/04/9d/092f71894e11ce40bac33d72fee342284f754fa07c4e3a33a230b69445fb/azureml_sdk-1.0.8-py3-none-any.whl\n",
      "Collecting azureml-core==1.0.8.* (from azureml-sdk[automl,notebooks])\n",
      "  Using cached https://files.pythonhosted.org/packages/31/6c/d1a7dcc76d07ab5aec38966a9d3dfb420331e1689e0571aacb2dba83e10b/azureml_core-1.0.8-py2.py3-none-any.whl\n",
      "Collecting azureml-pipeline==1.0.8.* (from azureml-sdk[automl,notebooks])\n",
      "  Using cached https://files.pythonhosted.org/packages/37/a7/2a7539e33df3eb84f061cf43a3b306a0c57f0f965f5bb5d22f22f762e383/azureml_pipeline-1.0.8-py3-none-any.whl\n",
      "Collecting azureml-train==1.0.8.* (from azureml-sdk[automl,notebooks])\n",
      "  Using cached https://files.pythonhosted.org/packages/b3/ae/c6f4a086f2bd7c0fdbbda9c3b21b08bf1ed516dd01400d5d08dbc2b6508d/azureml_train-1.0.8-py3-none-any.whl\n",
      "Collecting azureml-train-automl==1.0.8.*; extra == \"automl\" (from azureml-sdk[automl,notebooks])\n",
      "  Using cached https://files.pythonhosted.org/packages/00/a9/df3b74592d5ca47cd61754518248ef2f76401a70bac35c041889bb4b78d0/azureml_train_automl-1.0.8-py3-none-any.whl\n",
      "Collecting azureml-widgets==1.0.8.*; extra == \"notebooks\" (from azureml-sdk[automl,notebooks])\n",
      "  Using cached https://files.pythonhosted.org/packages/8c/36/055f787b606b23840542fef324cb79f57d6fc48368eb7c4e695b0220f664/azureml_widgets-1.0.8-py3-none-any.whl\n",
      "Collecting SecretStorage<3.0.0 (from azureml-core==1.0.8.*->azureml-sdk[automl,notebooks])\n",
      "Collecting pytz (from azureml-core==1.0.8.*->azureml-sdk[automl,notebooks])\n",
      "  Downloading https://files.pythonhosted.org/packages/61/28/1d3920e4d1d50b19bc5d24398a7cd85cc7b9a75a490570d5a30c57622d34/pytz-2018.9-py2.py3-none-any.whl (510kB)\n",
      "Collecting azure-mgmt-resource>=1.2.1 (from azureml-core==1.0.8.*->azureml-sdk[automl,notebooks])\n",
      "  Downloading https://files.pythonhosted.org/packages/2b/2e/e79a278bedfc21308ab0c632759cfda5d7ff02d62260bcc4632449937dcf/azure_mgmt_resource-2.1.0-py2.py3-none-any.whl (757kB)\n",
      "Collecting backports.tempfile (from azureml-core==1.0.8.*->azureml-sdk[automl,notebooks])\n",
      "  Using cached https://files.pythonhosted.org/packages/b4/5c/077f910632476281428fe254807952eb47ca78e720d059a46178c541e669/backports.tempfile-1.0-py2.py3-none-any.whl\n",
      "Collecting azure-mgmt-keyvault>=0.40.0 (from azureml-core==1.0.8.*->azureml-sdk[automl,notebooks])\n",
      "  Using cached https://files.pythonhosted.org/packages/49/de/0d69aedae7c5f6428314640b65947203ab80409c12b5d4e66fb5b7a4182e/azure_mgmt_keyvault-1.1.0-py2.py3-none-any.whl\n",
      "Collecting PyJWT (from azureml-core==1.0.8.*->azureml-sdk[automl,notebooks])\n",
      "  Downloading https://files.pythonhosted.org/packages/87/8b/6a9f14b5f781697e51259d81657e6048fd31a113229cf346880bb7545565/PyJWT-1.7.1-py2.py3-none-any.whl\n",
      "Collecting ruamel.yaml<=0.15.51,>=0.15.35 (from azureml-core==1.0.8.*->azureml-sdk[automl,notebooks])\n",
      "  Using cached https://files.pythonhosted.org/packages/29/23/7d46d24c504abadd25300ec847cc0a8be3499ba14b0586492b014988c0fc/ruamel.yaml-0.15.51-cp36-cp36m-win_amd64.whl\n",
      "Collecting contextlib2 (from azureml-core==1.0.8.*->azureml-sdk[automl,notebooks])\n",
      "  Using cached https://files.pythonhosted.org/packages/a2/71/8273a7eeed0aff6a854237ab5453bc9aa67deb49df4832801c21f0ff3782/contextlib2-0.5.5-py2.py3-none-any.whl\n",
      "Requirement already satisfied, skipping upgrade: six>=1.11.0 in d:\\anaconda\\envs\\myenv\\lib\\site-packages (from azureml-core==1.0.8.*->azureml-sdk[automl,notebooks]) (1.12.0)\n",
      "Collecting python-dateutil>=2.7.3 (from azureml-core==1.0.8.*->azureml-sdk[automl,notebooks])\n",
      "  Using cached https://files.pythonhosted.org/packages/74/68/d87d9b36af36f44254a8d512cbfc48369103a3b9e474be9bdfe536abfc45/python_dateutil-2.7.5-py2.py3-none-any.whl\n",
      "Collecting ndg-httpsclient (from azureml-core==1.0.8.*->azureml-sdk[automl,notebooks])\n",
      "  Using cached https://files.pythonhosted.org/packages/fb/67/c2f508c00ed2a6911541494504b7cac16fe0b0473912568df65fd1801132/ndg_httpsclient-0.5.1-py3-none-any.whl\n",
      "Collecting pathspec (from azureml-core==1.0.8.*->azureml-sdk[automl,notebooks])\n",
      "Collecting cryptography!=1.9,!=2.0.*,!=2.1.*,!=2.2.* (from azureml-core==1.0.8.*->azureml-sdk[automl,notebooks])\n",
      "  Downloading https://files.pythonhosted.org/packages/3c/a5/ac7f4d9fa22cf6783e2d62cbfdf0b14b937d873a9d129f8d4d95e2184af5/cryptography-2.4.2-cp36-cp36m-win_amd64.whl (1.3MB)\n",
      "Collecting azure-storage-nspkg>=3.0.0 (from azureml-core==1.0.8.*->azureml-sdk[automl,notebooks])\n",
      "  Using cached https://files.pythonhosted.org/packages/ba/f6/054ace7b01c6c21b3b95a83c3997f7d6539d939a2c08c4f27f779128a030/azure_storage_nspkg-3.1.0-py2.py3-none-any.whl\n",
      "Collecting msrestazure>=0.4.33 (from azureml-core==1.0.8.*->azureml-sdk[automl,notebooks])\n",
      "  Downloading https://files.pythonhosted.org/packages/46/ba/7870308e3d3b4b3956880eed2df20669a5690436793e6fc1442c8b73e01c/msrestazure-0.6.0-py2.py3-none-any.whl\n",
      "Collecting azure-mgmt-authorization>=0.40.0 (from azureml-core==1.0.8.*->azureml-sdk[automl,notebooks])\n",
      "  Using cached https://files.pythonhosted.org/packages/a1/71/9a20913e92771b3c23564f1bea54d376d09fb30a75585087c70b769d75c8/azure_mgmt_authorization-0.51.1-py2.py3-none-any.whl\n",
      "Collecting msrest>=0.5.1 (from azureml-core==1.0.8.*->azureml-sdk[automl,notebooks])\n",
      "  Downloading https://files.pythonhosted.org/packages/eb/96/1cf56e4cfd221b7f6eb6ab096dc23b0d21361393f0784276531e49b0b2a1/msrest-0.6.4-py2.py3-none-any.whl (81kB)\n",
      "Collecting azure-common>=1.1.12 (from azureml-core==1.0.8.*->azureml-sdk[automl,notebooks])\n",
      "  Downloading https://files.pythonhosted.org/packages/a5/b2/12c7c906a560e1f0171664c28cadfd989ecf874562cc9c21beea851bf7d1/azure_common-1.1.17-py2.py3-none-any.whl\n",
      "Collecting jsonpickle (from azureml-core==1.0.8.*->azureml-sdk[automl,notebooks])\n",
      "  Using cached https://files.pythonhosted.org/packages/ca/ce/97404d5aeb58e6155c216825c81b50f6eca8a5345c582317ae48391878f8/jsonpickle-1.0-py2.py3-none-any.whl\n",
      "Collecting azure-storage-common>=1.1.0 (from azureml-core==1.0.8.*->azureml-sdk[automl,notebooks])\n",
      "  Using cached https://files.pythonhosted.org/packages/73/84/025ac436a6a1d5516d1a67887d7122b3b2ea04ba6b2d2c46fe949accb62b/azure_storage_common-1.4.0-py2.py3-none-any.whl\n",
      "Collecting azure-storage-blob>=1.1.0 (from azureml-core==1.0.8.*->azureml-sdk[automl,notebooks])\n",
      "  Using cached https://files.pythonhosted.org/packages/f7/b7/9b20c39bf411e896d110d01f2551e6e7b397fde6eb06b07293fe29705d13/azure_storage_blob-1.4.0-py2.py3-none-any.whl\n",
      "Collecting azure-cli-core>=2.0.38 (from azureml-core==1.0.8.*->azureml-sdk[automl,notebooks])\n",
      "  Using cached https://files.pythonhosted.org/packages/13/d9/db78eb6ca9272ab486bdf1327fdca87a8b8915654efee0ab56f3837238b1/azure_cli_core-2.0.55-py2.py3-none-any.whl\n",
      "Collecting azure-mgmt-containerregistry>=2.0.0 (from azureml-core==1.0.8.*->azureml-sdk[automl,notebooks])\n",
      "  Using cached https://files.pythonhosted.org/packages/4e/93/982bdd8f38379405beab963ee2abf1ab42a826a57cc2157228216cfc62e4/azure_mgmt_containerregistry-2.6.0-py2.py3-none-any.whl\n",
      "Collecting urllib3<1.24,>=1.23 (from azureml-core==1.0.8.*->azureml-sdk[automl,notebooks])\n",
      "  Using cached https://files.pythonhosted.org/packages/bd/c9/6fdd990019071a4a32a5e7cb78a1d92c53851ef4f56f62a3486e6a7d8ffb/urllib3-1.23-py2.py3-none-any.whl\n",
      "Collecting docker (from azureml-core==1.0.8.*->azureml-sdk[automl,notebooks])\n",
      "  Downloading https://files.pythonhosted.org/packages/7e/3c/b610f22b170b0f8fe4d8f78974878e116562389f666f99e6549567eb9d87/docker-3.7.0-py2.py3-none-any.whl (133kB)\n",
      "Collecting azure-mgmt-storage>=1.5.0 (from azureml-core==1.0.8.*->azureml-sdk[automl,notebooks])\n",
      "  Downloading https://files.pythonhosted.org/packages/d9/87/ab44b9d9627ff91825ba5f5a39092ebfe97a90679008609db4c479036591/azure_mgmt_storage-3.1.1-py2.py3-none-any.whl (696kB)\n",
      "Collecting requests>=2.19.1 (from azureml-core==1.0.8.*->azureml-sdk[automl,notebooks])\n",
      "  Downloading https://files.pythonhosted.org/packages/7d/e3/20f3d364d6c8e5d2353c72a67778eb189176f08e873c9900e10c0287b84b/requests-2.21.0-py2.py3-none-any.whl (57kB)\n",
      "Collecting azure-cli-profile>=2.0.26 (from azureml-core==1.0.8.*->azureml-sdk[automl,notebooks])\n",
      "  Using cached https://files.pythonhosted.org/packages/c2/d3/fdc722a1b61857250a76027d6d73a50182c6d85132ddd65600a8993574ce/azure_cli_profile-2.1.2-py2.py3-none-any.whl\n",
      "Collecting azure-graphrbac>=0.40.0 (from azureml-core==1.0.8.*->azureml-sdk[automl,notebooks])\n",
      "  Downloading https://files.pythonhosted.org/packages/da/a8/3d3d6fe8458b2b07bad10195c79928ea9ba87b5cc0c08903b387dd27c6f0/azure_graphrbac-0.53.0-py2.py3-none-any.whl (108kB)\n",
      "Collecting azureml-pipeline-core==1.0.8.* (from azureml-pipeline==1.0.8.*->azureml-sdk[automl,notebooks])\n",
      "  Using cached https://files.pythonhosted.org/packages/8b/b3/df4ac408b53a37dd8e49576c95d521aec2c58d0f65745668a6e4504b66e1/azureml_pipeline_core-1.0.8-py3-none-any.whl\n",
      "Collecting azureml-pipeline-steps==1.0.8.* (from azureml-pipeline==1.0.8.*->azureml-sdk[automl,notebooks])\n",
      "  Using cached https://files.pythonhosted.org/packages/a4/e4/dae1424cac4d60251746fea691ba8e4dc0a982f84896c3b98733dfbad5d7/azureml_pipeline_steps-1.0.8-py3-none-any.whl\n",
      "Collecting azureml-train-core==1.0.8.* (from azureml-train==1.0.8.*->azureml-sdk[automl,notebooks])\n",
      "  Using cached https://files.pythonhosted.org/packages/e7/d8/516e09fbbc7dbaf6ab78b9fc7e33e41f9f993bf67e02a852ec86789ccb5c/azureml_train_core-1.0.8-py3-none-any.whl\n",
      "Collecting scipy<=1.1.0,>=1.0.0 (from azureml-train-automl==1.0.8.*; extra == \"automl\"->azureml-sdk[automl,notebooks])\n",
      "  Using cached https://files.pythonhosted.org/packages/62/e2/364f0bcc641aeff79d743c732769d5dc31a1e78c27699229431412c4b425/scipy-1.1.0-cp36-none-win_amd64.whl\n",
      "Collecting sklearn-pandas<=1.7.0,>=1.4.0 (from azureml-train-automl==1.0.8.*; extra == \"automl\"->azureml-sdk[automl,notebooks])\n",
      "  Using cached https://files.pythonhosted.org/packages/7e/9c/c94f46b40b86d2c77c46c4c1b858fc66c117b4390665eca28f2e0812db45/sklearn_pandas-1.7.0-py2.py3-none-any.whl\n",
      "Collecting lightgbm<=2.2.1,>=2.0.11 (from azureml-train-automl==1.0.8.*; extra == \"automl\"->azureml-sdk[automl,notebooks])\n",
      "  Using cached https://files.pythonhosted.org/packages/63/0a/0aa1e3afe54b75bceac1c85f534cf8a73036975296d439c699fbe4f48aa4/lightgbm-2.2.1-py2.py3-none-win_amd64.whl\n",
      "Collecting resource>=0.1.8 (from azureml-train-automl==1.0.8.*; extra == \"automl\"->azureml-sdk[automl,notebooks])\n",
      "  Using cached https://files.pythonhosted.org/packages/34/ad/9cd037c01c075f9a273c23557f8e71195d773d59d3881bbb26011d396c8b/Resource-0.2.1-py2.py3-none-any.whl\n",
      "Collecting azureml-telemetry==1.0.8.* (from azureml-train-automl==1.0.8.*; extra == \"automl\"->azureml-sdk[automl,notebooks])\n",
      "  Using cached https://files.pythonhosted.org/packages/d6/14/fe65407a65814da3f4cbfa3b6e1555df45b487742e18041575c21da90eba/azureml_telemetry-1.0.8-py3-none-any.whl\n",
      "Collecting dill>=0.2.8 (from azureml-train-automl==1.0.8.*; extra == \"automl\"->azureml-sdk[automl,notebooks])\n",
      "Collecting tensorflow>=1.10.0 (from azureml-train-automl==1.0.8.*; extra == \"automl\"->azureml-sdk[automl,notebooks])\n",
      "  Using cached https://files.pythonhosted.org/packages/05/cd/c171d2e33c0192b04560ce864c26eba83fed888fe5cd9ded661b2702f2ae/tensorflow-1.12.0-cp36-cp36m-win_amd64.whl\n",
      "Collecting pandas<=0.23.4,>=0.21.0 (from azureml-train-automl==1.0.8.*; extra == \"automl\"->azureml-sdk[automl,notebooks])\n",
      "  Using cached https://files.pythonhosted.org/packages/0e/67/def5bfaf4d3324fdb89048889ec523c0903c5efab1a64c8dbe0ac8eec13c/pandas-0.23.4-cp36-cp36m-win_amd64.whl\n",
      "Collecting wheel==0.30.0 (from azureml-train-automl==1.0.8.*; extra == \"automl\"->azureml-sdk[automl,notebooks])\n",
      "  Using cached https://files.pythonhosted.org/packages/0c/80/16a85b47702a1f47a63c104c91abdd0a6704ee8ae3b4ce4afc49bc39f9d9/wheel-0.30.0-py2.py3-none-any.whl\n",
      "Collecting azureml-dataprep<1.1.0,>=0.5.2 (from azureml-train-automl==1.0.8.*; extra == \"automl\"->azureml-sdk[automl,notebooks])\n",
      "  Using cached https://files.pythonhosted.org/packages/c1/61/72c884ebbe5dba9bdec77bed2fa9cab2809b0fcab6f437f51592b03aab3b/azureml_dataprep-1.0.7-py3-none-any.whl\n",
      "Collecting scikit-learn==0.19.1 (from azureml-train-automl==1.0.8.*; extra == \"automl\"->azureml-sdk[automl,notebooks])\n",
      "  Downloading https://files.pythonhosted.org/packages/67/e5/1459a3d6c6029a86b840b7701c48429d857eb2086916fec76f97c94dcc7a/scikit_learn-0.19.1-cp36-cp36m-win_amd64.whl (4.3MB)\n",
      "Collecting numpy<1.15.0,>=1.11.0 (from azureml-train-automl==1.0.8.*; extra == \"automl\"->azureml-sdk[automl,notebooks])\n",
      "  Downloading https://files.pythonhosted.org/packages/dc/99/f824a73251589d9fcef2384f9dd21bd1601597fda92ced5882940586ec37/numpy-1.14.6-cp36-none-win_amd64.whl (13.4MB)\n",
      "Collecting ipywidgets>=7.0.0 (from azureml-widgets==1.0.8.*; extra == \"notebooks\"->azureml-sdk[automl,notebooks])\n",
      "  Using cached https://files.pythonhosted.org/packages/30/9a/a008c7b1183fac9e52066d80a379b3c64eab535bd9d86cdc29a0b766fd82/ipywidgets-7.4.2-py2.py3-none-any.whl\n",
      "Collecting backports.weakref (from backports.tempfile->azureml-core==1.0.8.*->azureml-sdk[automl,notebooks])\n",
      "  Using cached https://files.pythonhosted.org/packages/88/ec/f598b633c3d5ffe267aaada57d961c94fdfa183c5c3ebda2b6d151943db6/backports.weakref-1.0.post1-py2.py3-none-any.whl\n",
      "Collecting azure-mgmt-nspkg>=2.0.0 (from azure-mgmt-keyvault>=0.40.0->azureml-core==1.0.8.*->azureml-sdk[automl,notebooks])\n",
      "  Using cached https://files.pythonhosted.org/packages/b3/c2/af4b47845f27dc7d206ed4908b9e580f8bc94a4b2f3956a0d87c40719d90/azure_mgmt_nspkg-3.0.2-py3-none-any.whl\n",
      "Collecting pyasn1>=0.1.1 (from ndg-httpsclient->azureml-core==1.0.8.*->azureml-sdk[automl,notebooks])\n",
      "  Downloading https://files.pythonhosted.org/packages/7b/7c/c9386b82a25115cccf1903441bba3cbadcfae7b678a20167347fa8ded34c/pyasn1-0.4.5-py2.py3-none-any.whl (73kB)\n",
      "Collecting PyOpenSSL (from ndg-httpsclient->azureml-core==1.0.8.*->azureml-sdk[automl,notebooks])\n",
      "  Using cached https://files.pythonhosted.org/packages/96/af/9d29e6bd40823061aea2e0574ccb2fcf72bfd6130ce53d32773ec375458c/pyOpenSSL-18.0.0-py2.py3-none-any.whl\n",
      "Collecting idna>=2.1 (from cryptography!=1.9,!=2.0.*,!=2.1.*,!=2.2.*->azureml-core==1.0.8.*->azureml-sdk[automl,notebooks])\n",
      "  Downloading https://files.pythonhosted.org/packages/14/2c/cd551d81dbe15200be1cf41cd03869a46fe7226e7450af7a6545bfc474c9/idna-2.8-py2.py3-none-any.whl (58kB)\n",
      "Collecting asn1crypto>=0.21.0 (from cryptography!=1.9,!=2.0.*,!=2.1.*,!=2.2.*->azureml-core==1.0.8.*->azureml-sdk[automl,notebooks])\n",
      "  Using cached https://files.pythonhosted.org/packages/ea/cd/35485615f45f30a510576f1a56d1e0a7ad7bd8ab5ed7cdc600ef7cd06222/asn1crypto-0.24.0-py2.py3-none-any.whl\n",
      "Collecting cffi!=1.11.3,>=1.7 (from cryptography!=1.9,!=2.0.*,!=2.1.*,!=2.2.*->azureml-core==1.0.8.*->azureml-sdk[automl,notebooks])\n",
      "  Using cached https://files.pythonhosted.org/packages/2f/85/a9184548ad4261916d08a50d9e272bf6f93c54f3735878fbfc9335efd94b/cffi-1.11.5-cp36-cp36m-win_amd64.whl\n",
      "Collecting azure-nspkg>=2.0.0 (from azure-storage-nspkg>=3.0.0->azureml-core==1.0.8.*->azureml-sdk[automl,notebooks])\n",
      "  Using cached https://files.pythonhosted.org/packages/c4/0c/c562be95a9a2ed52454f598571cf300b1114d0db2aa27f5b8ed3bb9cd0c0/azure_nspkg-3.0.2-py3-none-any.whl\n",
      "Collecting adal<2.0.0,>=0.6.0 (from msrestazure>=0.4.33->azureml-core==1.0.8.*->azureml-sdk[automl,notebooks])\n",
      "  Using cached https://files.pythonhosted.org/packages/2d/2f/14882b8dae0977e85577abde3065c141fb94dbb242adfb80e21797e4f7c9/adal-1.2.0-py2.py3-none-any.whl\n",
      "Collecting requests-oauthlib>=0.5.0 (from msrest>=0.5.1->azureml-core==1.0.8.*->azureml-sdk[automl,notebooks])\n",
      "  Downloading https://files.pythonhosted.org/packages/c2/e2/9fd03d55ffb70fe51f587f20bcf407a6927eb121de86928b34d162f0b1ac/requests_oauthlib-1.2.0-py2.py3-none-any.whl\n",
      "Requirement already satisfied, skipping upgrade: certifi>=2017.4.17 in d:\\anaconda\\envs\\myenv\\lib\\site-packages (from msrest>=0.5.1->azureml-core==1.0.8.*->azureml-sdk[automl,notebooks]) (2018.10.15)\n",
      "Collecting isodate>=0.6.0 (from msrest>=0.5.1->azureml-core==1.0.8.*->azureml-sdk[automl,notebooks])\n",
      "  Using cached https://files.pythonhosted.org/packages/9b/9f/b36f7774ff5ea8e428fdcfc4bb332c39ee5b9362ddd3d40d9516a55221b2/isodate-0.6.0-py2.py3-none-any.whl\n",
      "Collecting azure-cli-telemetry (from azure-cli-core>=2.0.38->azureml-core==1.0.8.*->azureml-sdk[automl,notebooks])\n",
      "  Using cached https://files.pythonhosted.org/packages/71/4c/da5ebe9300ecdc850031372f81229383c46a70e83dee8e77f58aa6fd0546/azure_cli_telemetry-1.0.0-py2.py3-none-any.whl\n",
      "Collecting antlr4-python3-runtime; python_version >= \"3.0\" (from azure-cli-core>=2.0.38->azureml-core==1.0.8.*->azureml-sdk[automl,notebooks])\n",
      "  Downloading https://files.pythonhosted.org/packages/29/14/8ac135ec7cc9db3f768e2d032776718c6b23f74e63543f0974b4873500b2/antlr4-python3-runtime-4.7.2.tar.gz (112kB)\n",
      "Collecting jmespath (from azure-cli-core>=2.0.38->azureml-core==1.0.8.*->azureml-sdk[automl,notebooks])\n",
      "  Using cached https://files.pythonhosted.org/packages/b7/31/05c8d001f7f87f0f07289a5fc0fc3832e9a57f2dbd4d3b0fee70e0d51365/jmespath-0.9.3-py2.py3-none-any.whl\n",
      "Collecting pygments (from azure-cli-core>=2.0.38->azureml-core==1.0.8.*->azureml-sdk[automl,notebooks])\n",
      "  Downloading https://files.pythonhosted.org/packages/13/e5/6d710c9cf96c31ac82657bcfb441df328b22df8564d58d0c4cd62612674c/Pygments-2.3.1-py2.py3-none-any.whl (849kB)\n",
      "Collecting futures (from azure-cli-core>=2.0.38->azureml-core==1.0.8.*->azureml-sdk[automl,notebooks])\n",
      "Collecting tabulate<=0.8.2,>=0.7.7 (from azure-cli-core>=2.0.38->azureml-core==1.0.8.*->azureml-sdk[automl,notebooks])\n",
      "Collecting paramiko>=2.0.8 (from azure-cli-core>=2.0.38->azureml-core==1.0.8.*->azureml-sdk[automl,notebooks])\n",
      "  Using cached https://files.pythonhosted.org/packages/cf/ae/94e70d49044ccc234bfdba20114fa947d7ba6eb68a2e452d89b920e62227/paramiko-2.4.2-py2.py3-none-any.whl\n",
      "Collecting humanfriendly>=4.7 (from azure-cli-core>=2.0.38->azureml-core==1.0.8.*->azureml-sdk[automl,notebooks])\n",
      "  Using cached https://files.pythonhosted.org/packages/79/1e/13d96248e3fcaa7777b61fa889feab44865c85e524bbd667acfa0d8b66e3/humanfriendly-4.17-py2.py3-none-any.whl\n",
      "Collecting knack==0.5.1 (from azure-cli-core>=2.0.38->azureml-core==1.0.8.*->azureml-sdk[automl,notebooks])\n",
      "  Using cached https://files.pythonhosted.org/packages/27/46/0a6d7471efcc519e392640f6933c0f644bbf602971e64797108292cb3623/knack-0.5.1-py2.py3-none-any.whl\n",
      "Collecting argcomplete>=1.8.0 (from azure-cli-core>=2.0.38->azureml-core==1.0.8.*->azureml-sdk[automl,notebooks])\n",
      "  Using cached https://files.pythonhosted.org/packages/31/88/ba8d8684a8a27749250c66ff7c2b408fdbc29b50da61200338ff9b2607bf/argcomplete-1.9.4-py2.py3-none-any.whl\n",
      "Collecting azure-cli-nspkg>=2.0.0 (from azure-cli-core>=2.0.38->azureml-core==1.0.8.*->azureml-sdk[automl,notebooks])\n",
      "  Using cached https://files.pythonhosted.org/packages/a7/85/601ef6484bf7a722daa76a4383c4ccfd4980b74ed6c2895392f53ed210d5/azure_cli_nspkg-3.0.3-py2.py3-none-any.whl\n",
      "Collecting colorama>=0.3.9 (from azure-cli-core>=2.0.38->azureml-core==1.0.8.*->azureml-sdk[automl,notebooks])\n",
      "  Downloading https://files.pythonhosted.org/packages/4f/a6/728666f39bfff1719fc94c481890b2106837da9318031f71a8424b662e12/colorama-0.4.1-py2.py3-none-any.whl\n",
      "Collecting pyyaml>=4.2b1 (from azure-cli-core>=2.0.38->azureml-core==1.0.8.*->azureml-sdk[automl,notebooks])\n",
      "Requirement already satisfied, skipping upgrade: pip in d:\\anaconda\\envs\\myenv\\lib\\site-packages (from azure-cli-core>=2.0.38->azureml-core==1.0.8.*->azureml-sdk[automl,notebooks]) (18.1)\n",
      "Collecting docker-pycreds>=0.4.0 (from docker->azureml-core==1.0.8.*->azureml-sdk[automl,notebooks])\n",
      "  Downloading https://files.pythonhosted.org/packages/f5/e8/f6bd1eee09314e7e6dee49cbe2c5e22314ccdb38db16c9fc72d2fa80d054/docker_pycreds-0.4.0-py2.py3-none-any.whl\n",
      "Collecting pypiwin32==223; sys_platform == \"win32\" and python_version >= \"3.6\" (from docker->azureml-core==1.0.8.*->azureml-sdk[automl,notebooks])\n",
      "  Using cached https://files.pythonhosted.org/packages/d0/1b/2f292bbd742e369a100c91faa0483172cd91a1a422a6692055ac920946c5/pypiwin32-223-py3-none-any.whl\n",
      "Collecting websocket-client>=0.32.0 (from docker->azureml-core==1.0.8.*->azureml-sdk[automl,notebooks])\n",
      "  Using cached https://files.pythonhosted.org/packages/26/2d/f749a5c82f6192d77ed061a38e02001afcba55fe8477336d26a950ab17ce/websocket_client-0.54.0-py2.py3-none-any.whl\n",
      "Collecting chardet<3.1.0,>=3.0.2 (from requests>=2.19.1->azureml-core==1.0.8.*->azureml-sdk[automl,notebooks])\n",
      "  Using cached https://files.pythonhosted.org/packages/bc/a9/01ffebfb562e4274b6487b4bb1ddec7ca55ec7510b22e4c51f14098443b8/chardet-3.0.4-py2.py3-none-any.whl\n",
      "Collecting azure-cli-command-modules-nspkg>=2.0.0 (from azure-cli-profile>=2.0.26->azureml-core==1.0.8.*->azureml-sdk[automl,notebooks])\n",
      "  Using cached https://files.pythonhosted.org/packages/e6/c9/cdeeeabc550848e2a07caa66cba28aa057d23b6feaa824ceafd32c3f2226/azure_cli_command_modules_nspkg-2.0.2-py2.py3-none-any.whl\n",
      "Collecting azureml-train-restclients-hyperdrive==1.0.8.* (from azureml-train-core==1.0.8.*->azureml-train==1.0.8.*->azureml-sdk[automl,notebooks])\n",
      "  Using cached https://files.pythonhosted.org/packages/39/59/bb104ed2b00810d85afc610f04d6d8d7787e7da794d5af89d0c66f5e115d/azureml_train_restclients_hyperdrive-1.0.8-py3-none-any.whl\n",
      "Collecting JsonSir>=0.0.2 (from resource>=0.1.8->azureml-train-automl==1.0.8.*; extra == \"automl\"->azureml-sdk[automl,notebooks])\n",
      "Collecting python-easyconfig>=0.1.0 (from resource>=0.1.8->azureml-train-automl==1.0.8.*; extra == \"automl\"->azureml-sdk[automl,notebooks])\n",
      "  Using cached https://files.pythonhosted.org/packages/b1/86/1138081cca360a02066eedaf301d0f358c35e0e0d67572acf9d6354edca9/Python_EasyConfig-0.1.7-py2.py3-none-any.whl\n",
      "Collecting JsonForm>=0.0.2 (from resource>=0.1.8->azureml-train-automl==1.0.8.*; extra == \"automl\"->azureml-sdk[automl,notebooks])\n",
      "Collecting applicationinsights (from azureml-telemetry==1.0.8.*->azureml-train-automl==1.0.8.*; extra == \"automl\"->azureml-sdk[automl,notebooks])\n",
      "  Using cached https://files.pythonhosted.org/packages/e3/c8/7848a0dd85158930b859eb8be1e38fc76a91f0a040d491723ebb356d7358/applicationinsights-0.11.7-py2.py3-none-any.whl\n",
      "Collecting pyreadline>=1.7.1 (from dill>=0.2.8->azureml-train-automl==1.0.8.*; extra == \"automl\"->azureml-sdk[automl,notebooks])\n",
      "Collecting protobuf>=3.6.1 (from tensorflow>=1.10.0->azureml-train-automl==1.0.8.*; extra == \"automl\"->azureml-sdk[automl,notebooks])\n",
      "  Using cached https://files.pythonhosted.org/packages/e8/df/d606d07cff0fc8d22abcc54006c0247002d11a7f2d218eb008d48e76851d/protobuf-3.6.1-cp36-cp36m-win_amd64.whl\n",
      "Collecting absl-py>=0.1.6 (from tensorflow>=1.10.0->azureml-train-automl==1.0.8.*; extra == \"automl\"->azureml-sdk[automl,notebooks])\n",
      "Collecting tensorboard<1.13.0,>=1.12.0 (from tensorflow>=1.10.0->azureml-train-automl==1.0.8.*; extra == \"automl\"->azureml-sdk[automl,notebooks])\n",
      "  Using cached https://files.pythonhosted.org/packages/07/53/8d32ce9471c18f8d99028b7cef2e5b39ea8765bd7ef250ca05b490880971/tensorboard-1.12.2-py3-none-any.whl\n",
      "Collecting astor>=0.6.0 (from tensorflow>=1.10.0->azureml-train-automl==1.0.8.*; extra == \"automl\"->azureml-sdk[automl,notebooks])\n",
      "  Using cached https://files.pythonhosted.org/packages/35/6b/11530768cac581a12952a2aad00e1526b89d242d0b9f59534ef6e6a1752f/astor-0.7.1-py2.py3-none-any.whl\n",
      "Requirement already satisfied, skipping upgrade: keras-preprocessing>=1.0.5 in d:\\anaconda\\envs\\myenv\\lib\\site-packages (from tensorflow>=1.10.0->azureml-train-automl==1.0.8.*; extra == \"automl\"->azureml-sdk[automl,notebooks]) (1.0.5)\n",
      "Collecting gast>=0.2.0 (from tensorflow>=1.10.0->azureml-train-automl==1.0.8.*; extra == \"automl\"->azureml-sdk[automl,notebooks])\n",
      "Requirement already satisfied, skipping upgrade: keras-applications>=1.0.6 in d:\\anaconda\\envs\\myenv\\lib\\site-packages (from tensorflow>=1.10.0->azureml-train-automl==1.0.8.*; extra == \"automl\"->azureml-sdk[automl,notebooks]) (1.0.6)\n",
      "Collecting grpcio>=1.8.6 (from tensorflow>=1.10.0->azureml-train-automl==1.0.8.*; extra == \"automl\"->azureml-sdk[automl,notebooks])\n",
      "  Using cached https://files.pythonhosted.org/packages/bb/a7/fa027f411616f6e7c5899a8e3e1ab2e101808f8d62b6ee8b645411ed270b/grpcio-1.18.0-cp36-cp36m-win_amd64.whl\n",
      "Collecting termcolor>=1.1.0 (from tensorflow>=1.10.0->azureml-train-automl==1.0.8.*; extra == \"automl\"->azureml-sdk[automl,notebooks])\n",
      "Collecting dotnetcore2==2.1.7 (from azureml-dataprep<1.1.0,>=0.5.2->azureml-train-automl==1.0.8.*; extra == \"automl\"->azureml-sdk[automl,notebooks])\n",
      "  Using cached https://files.pythonhosted.org/packages/2b/68/7e04f181bd322fb4a8190cd03408703b25922229e1ffd407818b5756f70b/dotnetcore2-2.1.7-py3-none-win_amd64.whl\n",
      "Collecting azureml-dataprep-native<12.0.0,>=11.2.1 (from azureml-dataprep<1.1.0,>=0.5.2->azureml-train-automl==1.0.8.*; extra == \"automl\"->azureml-sdk[automl,notebooks])\n",
      "  Using cached https://files.pythonhosted.org/packages/35/88/61c70e2cd5c7e2c7f265cdff7444c7be26b993b7f0f98debec8a4f3ce49b/azureml_dataprep_native-11.2.1-cp36-cp36m-win_amd64.whl\n",
      "Collecting ipython>=4.0.0; python_version >= \"3.3\" (from ipywidgets>=7.0.0->azureml-widgets==1.0.8.*; extra == \"notebooks\"->azureml-sdk[automl,notebooks])\n",
      "  Downloading https://files.pythonhosted.org/packages/f0/b4/a9ea018c73a84ee6280b2e94a1a6af8d63e45903eac2da0640fa63bca4db/ipython-7.2.0-py3-none-any.whl (765kB)\n",
      "Collecting nbformat>=4.2.0 (from ipywidgets>=7.0.0->azureml-widgets==1.0.8.*; extra == \"notebooks\"->azureml-sdk[automl,notebooks])\n",
      "  Using cached https://files.pythonhosted.org/packages/da/27/9a654d2b6cc1eaa517d1c5a4405166c7f6d72f04f6e7eea41855fe808a46/nbformat-4.4.0-py2.py3-none-any.whl\n",
      "Collecting widgetsnbextension~=3.4.0 (from ipywidgets>=7.0.0->azureml-widgets==1.0.8.*; extra == \"notebooks\"->azureml-sdk[automl,notebooks])\n",
      "  Using cached https://files.pythonhosted.org/packages/8a/81/35789a3952afb48238289171728072d26d6e76649ddc8b3588657a2d78c1/widgetsnbextension-3.4.2-py2.py3-none-any.whl\n",
      "Collecting traitlets>=4.3.1 (from ipywidgets>=7.0.0->azureml-widgets==1.0.8.*; extra == \"notebooks\"->azureml-sdk[automl,notebooks])\n",
      "  Using cached https://files.pythonhosted.org/packages/93/d6/abcb22de61d78e2fc3959c964628a5771e47e7cc60d53e9342e21ed6cc9a/traitlets-4.3.2-py2.py3-none-any.whl\n",
      "Collecting ipykernel>=4.5.1 (from ipywidgets>=7.0.0->azureml-widgets==1.0.8.*; extra == \"notebooks\"->azureml-sdk[automl,notebooks])\n",
      "  Using cached https://files.pythonhosted.org/packages/d8/b0/f0be5c5ab335196f5cce96e5b889a4fcf5bfe462eb0acc05cd7e2caf65eb/ipykernel-5.1.0-py3-none-any.whl\n",
      "Collecting pycparser (from cffi!=1.11.3,>=1.7->cryptography!=1.9,!=2.0.*,!=2.1.*,!=2.2.*->azureml-core==1.0.8.*->azureml-sdk[automl,notebooks])\n",
      "  Using cached https://files.pythonhosted.org/packages/68/9e/49196946aee219aead1290e00d1e7fdeab8567783e83e1b9ab5585e6206a/pycparser-2.19.tar.gz\n",
      "Collecting oauthlib>=3.0.0 (from requests-oauthlib>=0.5.0->msrest>=0.5.1->azureml-core==1.0.8.*->azureml-sdk[automl,notebooks])\n",
      "  Downloading https://files.pythonhosted.org/packages/b8/03/ec2be6c125f330361afe33bff48ef7549c47da8fefc658a2df2242175b4b/oauthlib-3.0.0-py2.py3-none-any.whl (142kB)\n",
      "Collecting portalocker==1.2.1 (from azure-cli-telemetry->azure-cli-core>=2.0.38->azureml-core==1.0.8.*->azureml-sdk[automl,notebooks])\n",
      "  Using cached https://files.pythonhosted.org/packages/57/41/05e79e5516db1cc0c967b3202388cde729f871c871b0a07bf24ff11adfcf/portalocker-1.2.1-py2.py3-none-any.whl\n",
      "Collecting pynacl>=1.0.1 (from paramiko>=2.0.8->azure-cli-core>=2.0.38->azureml-core==1.0.8.*->azureml-sdk[automl,notebooks])\n",
      "  Using cached https://files.pythonhosted.org/packages/b5/0f/5f21bd04c8f45685c7b72013fc8efaf0e25baf3b77e62b3b915b5b43a7b6/PyNaCl-1.3.0-cp36-cp36m-win_amd64.whl\n",
      "Collecting bcrypt>=3.1.3 (from paramiko>=2.0.8->azure-cli-core>=2.0.38->azureml-core==1.0.8.*->azureml-sdk[automl,notebooks])\n",
      "  Downloading https://files.pythonhosted.org/packages/a1/5f/3ec2675ef0d918546ca341cf855b52c3ed972b762f215fc2a73fbef5f52d/bcrypt-3.1.6-cp36-cp36m-win_amd64.whl\n",
      "Collecting pywin32>=223 (from pypiwin32==223; sys_platform == \"win32\" and python_version >= \"3.6\"->docker->azureml-core==1.0.8.*->azureml-sdk[automl,notebooks])\n",
      "  Using cached https://files.pythonhosted.org/packages/b2/1a/7727b406391b0178b6ccb7e447e963df5ebf1ce9e0f615fc6ce23b6f6753/pywin32-224-cp36-cp36m-win_amd64.whl\n",
      "Collecting jsonschema (from JsonForm>=0.0.2->resource>=0.1.8->azureml-train-automl==1.0.8.*; extra == \"automl\"->azureml-sdk[automl,notebooks])\n",
      "  Using cached https://files.pythonhosted.org/packages/77/de/47e35a97b2b05c2fadbec67d44cfcdcd09b8086951b331d82de90d2912da/jsonschema-2.6.0-py2.py3-none-any.whl\n",
      "Requirement already satisfied, skipping upgrade: setuptools in d:\\anaconda\\envs\\myenv\\lib\\site-packages (from protobuf>=3.6.1->tensorflow>=1.10.0->azureml-train-automl==1.0.8.*; extra == \"automl\"->azureml-sdk[automl,notebooks]) (40.5.0)\n",
      "Collecting markdown>=2.6.8 (from tensorboard<1.13.0,>=1.12.0->tensorflow>=1.10.0->azureml-train-automl==1.0.8.*; extra == \"automl\"->azureml-sdk[automl,notebooks])\n",
      "  Using cached https://files.pythonhosted.org/packages/7a/6b/5600647404ba15545ec37d2f7f58844d690baf2f81f3a60b862e48f29287/Markdown-3.0.1-py2.py3-none-any.whl\n",
      "Collecting werkzeug>=0.11.10 (from tensorboard<1.13.0,>=1.12.0->tensorflow>=1.10.0->azureml-train-automl==1.0.8.*; extra == \"automl\"->azureml-sdk[automl,notebooks])\n",
      "  Using cached https://files.pythonhosted.org/packages/20/c4/12e3e56473e52375aa29c4764e70d1b8f3efa6682bef8d0aae04fe335243/Werkzeug-0.14.1-py2.py3-none-any.whl\n",
      "Requirement already satisfied, skipping upgrade: h5py in d:\\anaconda\\envs\\myenv\\lib\\site-packages (from keras-applications>=1.0.6->tensorflow>=1.10.0->azureml-train-automl==1.0.8.*; extra == \"automl\"->azureml-sdk[automl,notebooks]) (2.9.0)\n",
      "Collecting distro>=1.2.0 (from dotnetcore2==2.1.7->azureml-dataprep<1.1.0,>=0.5.2->azureml-train-automl==1.0.8.*; extra == \"automl\"->azureml-sdk[automl,notebooks])\n",
      "  Using cached https://files.pythonhosted.org/packages/f6/b1/ba5a96bccd3496241d8908164b9502a129156443cdd5acbdbf04a90b7a09/distro-1.3.0-py2.py3-none-any.whl\n",
      "Collecting backcall (from ipython>=4.0.0; python_version >= \"3.3\"->ipywidgets>=7.0.0->azureml-widgets==1.0.8.*; extra == \"notebooks\"->azureml-sdk[automl,notebooks])\n",
      "  Using cached https://files.pythonhosted.org/packages/84/71/c8ca4f5bb1e08401b916c68003acf0a0655df935d74d93bf3f3364b310e0/backcall-0.1.0.tar.gz\n",
      "Collecting prompt-toolkit<2.1.0,>=2.0.0 (from ipython>=4.0.0; python_version >= \"3.3\"->ipywidgets>=7.0.0->azureml-widgets==1.0.8.*; extra == \"notebooks\"->azureml-sdk[automl,notebooks])\n",
      "  Using cached https://files.pythonhosted.org/packages/d1/e6/adb3be5576f5d27c6faa33f1e9fea8fe5dbd9351db12148de948507e352c/prompt_toolkit-2.0.7-py3-none-any.whl\n",
      "Collecting decorator (from ipython>=4.0.0; python_version >= \"3.3\"->ipywidgets>=7.0.0->azureml-widgets==1.0.8.*; extra == \"notebooks\"->azureml-sdk[automl,notebooks])\n",
      "  Using cached https://files.pythonhosted.org/packages/bc/bb/a24838832ba35baf52f32ab1a49b906b5f82fb7c76b2f6a7e35e140bac30/decorator-4.3.0-py2.py3-none-any.whl\n",
      "Collecting jedi>=0.10 (from ipython>=4.0.0; python_version >= \"3.3\"->ipywidgets>=7.0.0->azureml-widgets==1.0.8.*; extra == \"notebooks\"->azureml-sdk[automl,notebooks])\n",
      "  Downloading https://files.pythonhosted.org/packages/c2/bc/54d53f5bc4658380d0eca9055d72be4df45e5bfd91a4bac97da224a92553/jedi-0.13.2-py2.py3-none-any.whl (177kB)\n",
      "Collecting pickleshare (from ipython>=4.0.0; python_version >= \"3.3\"->ipywidgets>=7.0.0->azureml-widgets==1.0.8.*; extra == \"notebooks\"->azureml-sdk[automl,notebooks])\n",
      "  Using cached https://files.pythonhosted.org/packages/9a/41/220f49aaea88bc6fa6cba8d05ecf24676326156c23b991e80b3f2fc24c77/pickleshare-0.7.5-py2.py3-none-any.whl\n",
      "Collecting jupyter-core (from nbformat>=4.2.0->ipywidgets>=7.0.0->azureml-widgets==1.0.8.*; extra == \"notebooks\"->azureml-sdk[automl,notebooks])\n",
      "  Using cached https://files.pythonhosted.org/packages/1d/44/065d2d7bae7bebc06f1dd70d23c36da8c50c0f08b4236716743d706762a8/jupyter_core-4.4.0-py2.py3-none-any.whl\n",
      "Collecting ipython-genutils (from nbformat>=4.2.0->ipywidgets>=7.0.0->azureml-widgets==1.0.8.*; extra == \"notebooks\"->azureml-sdk[automl,notebooks])\n",
      "  Using cached https://files.pythonhosted.org/packages/fa/bc/9bd3b5c2b4774d5f33b2d544f1460be9df7df2fe42f352135381c347c69a/ipython_genutils-0.2.0-py2.py3-none-any.whl\n",
      "Collecting notebook>=4.4.1 (from widgetsnbextension~=3.4.0->ipywidgets>=7.0.0->azureml-widgets==1.0.8.*; extra == \"notebooks\"->azureml-sdk[automl,notebooks])\n",
      "  Downloading https://files.pythonhosted.org/packages/f8/a6/dbdf0954d073ab2cf5421cad20334d1e4c780da37205c04522c045298f67/notebook-5.7.4-py2.py3-none-any.whl (9.0MB)\n",
      "Collecting tornado>=4.2 (from ipykernel>=4.5.1->ipywidgets>=7.0.0->azureml-widgets==1.0.8.*; extra == \"notebooks\"->azureml-sdk[automl,notebooks])\n",
      "  Using cached https://files.pythonhosted.org/packages/ab/0e/8ec7ed219cb35fffe2f2cddbfa02b47ba5d23dd9026a41b3f2bdd63cdec3/tornado-5.1.1-cp36-cp36m-win_amd64.whl\n",
      "Collecting jupyter-client (from ipykernel>=4.5.1->ipywidgets>=7.0.0->azureml-widgets==1.0.8.*; extra == \"notebooks\"->azureml-sdk[automl,notebooks])\n",
      "  Downloading https://files.pythonhosted.org/packages/3b/c3/3043fe9ffd140d03c9d091a056794ccdc427c56ec19b8eea74f9ea0a498f/jupyter_client-5.2.4-py2.py3-none-any.whl (89kB)\n",
      "Collecting wcwidth (from prompt-toolkit<2.1.0,>=2.0.0->ipython>=4.0.0; python_version >= \"3.3\"->ipywidgets>=7.0.0->azureml-widgets==1.0.8.*; extra == \"notebooks\"->azureml-sdk[automl,notebooks])\n",
      "  Using cached https://files.pythonhosted.org/packages/7e/9f/526a6947247599b084ee5232e4f9190a38f398d7300d866af3ab571a5bfe/wcwidth-0.1.7-py2.py3-none-any.whl\n",
      "Collecting parso>=0.3.0 (from jedi>=0.10->ipython>=4.0.0; python_version >= \"3.3\"->ipywidgets>=7.0.0->azureml-widgets==1.0.8.*; extra == \"notebooks\"->azureml-sdk[automl,notebooks])\n",
      "  Using cached https://files.pythonhosted.org/packages/09/51/9c48a46334be50c13d25a3afe55fa05c445699304c5ad32619de953a2305/parso-0.3.1-py2.py3-none-any.whl\n",
      "Collecting prometheus-client (from notebook>=4.4.1->widgetsnbextension~=3.4.0->ipywidgets>=7.0.0->azureml-widgets==1.0.8.*; extra == \"notebooks\"->azureml-sdk[automl,notebooks])\n",
      "  Downloading https://files.pythonhosted.org/packages/bc/e1/3cddac03c8992815519c5f50493097f6508fa153d067b494db8ab5e9c4ce/prometheus_client-0.5.0.tar.gz\n",
      "Collecting Send2Trash (from notebook>=4.4.1->widgetsnbextension~=3.4.0->ipywidgets>=7.0.0->azureml-widgets==1.0.8.*; extra == \"notebooks\"->azureml-sdk[automl,notebooks])\n",
      "  Using cached https://files.pythonhosted.org/packages/49/46/c3dc27481d1cc57b9385aff41c474ceb7714f7935b1247194adae45db714/Send2Trash-1.5.0-py3-none-any.whl\n",
      "Collecting pyzmq>=17 (from notebook>=4.4.1->widgetsnbextension~=3.4.0->ipywidgets>=7.0.0->azureml-widgets==1.0.8.*; extra == \"notebooks\"->azureml-sdk[automl,notebooks])\n",
      "  Using cached https://files.pythonhosted.org/packages/86/0b/c3583486820c01cb9c228708923004f380400ddb9064178772965067f689/pyzmq-17.1.2-cp36-cp36m-win_amd64.whl\n",
      "Collecting nbconvert (from notebook>=4.4.1->widgetsnbextension~=3.4.0->ipywidgets>=7.0.0->azureml-widgets==1.0.8.*; extra == \"notebooks\"->azureml-sdk[automl,notebooks])\n",
      "  Using cached https://files.pythonhosted.org/packages/b5/bb/94c493051d60e5b9c0f7f9a368b324201818c1b1c4cae85d1e49a41846c7/nbconvert-5.4.0-py2.py3-none-any.whl\n",
      "Collecting terminado>=0.8.1 (from notebook>=4.4.1->widgetsnbextension~=3.4.0->ipywidgets>=7.0.0->azureml-widgets==1.0.8.*; extra == \"notebooks\"->azureml-sdk[automl,notebooks])\n",
      "  Using cached https://files.pythonhosted.org/packages/2e/20/a26211a24425923d46e1213b376a6ee60dc30bcdf1b0c345e2c3769deb1c/terminado-0.8.1-py2.py3-none-any.whl\n",
      "Collecting jinja2 (from notebook>=4.4.1->widgetsnbextension~=3.4.0->ipywidgets>=7.0.0->azureml-widgets==1.0.8.*; extra == \"notebooks\"->azureml-sdk[automl,notebooks])\n",
      "  Using cached https://files.pythonhosted.org/packages/7f/ff/ae64bacdfc95f27a016a7bed8e8686763ba4d277a78ca76f32659220a731/Jinja2-2.10-py2.py3-none-any.whl\n",
      "Collecting bleach (from nbconvert->notebook>=4.4.1->widgetsnbextension~=3.4.0->ipywidgets>=7.0.0->azureml-widgets==1.0.8.*; extra == \"notebooks\"->azureml-sdk[automl,notebooks])\n",
      "  Downloading https://files.pythonhosted.org/packages/ab/05/27e1466475e816d3001efb6e0a85a819be17411420494a1e602c36f8299d/bleach-3.1.0-py2.py3-none-any.whl (157kB)\n",
      "Collecting defusedxml (from nbconvert->notebook>=4.4.1->widgetsnbextension~=3.4.0->ipywidgets>=7.0.0->azureml-widgets==1.0.8.*; extra == \"notebooks\"->azureml-sdk[automl,notebooks])\n",
      "  Using cached https://files.pythonhosted.org/packages/87/1c/17f3e3935a913dfe2a5ca85fa5ccbef366bfd82eb318b1f75dadbf0affca/defusedxml-0.5.0-py2.py3-none-any.whl\n",
      "Collecting pandocfilters>=1.4.1 (from nbconvert->notebook>=4.4.1->widgetsnbextension~=3.4.0->ipywidgets>=7.0.0->azureml-widgets==1.0.8.*; extra == \"notebooks\"->azureml-sdk[automl,notebooks])\n",
      "  Using cached https://files.pythonhosted.org/packages/4c/ea/236e2584af67bb6df960832731a6e5325fd4441de001767da328c33368ce/pandocfilters-1.4.2.tar.gz\n",
      "Collecting testpath (from nbconvert->notebook>=4.4.1->widgetsnbextension~=3.4.0->ipywidgets>=7.0.0->azureml-widgets==1.0.8.*; extra == \"notebooks\"->azureml-sdk[automl,notebooks])\n",
      "  Using cached https://files.pythonhosted.org/packages/be/a4/162f9ebb6489421fe46dcca2ae420369edfee4b563c668d93cb4605d12ba/testpath-0.4.2-py2.py3-none-any.whl\n",
      "Collecting entrypoints>=0.2.2 (from nbconvert->notebook>=4.4.1->widgetsnbextension~=3.4.0->ipywidgets>=7.0.0->azureml-widgets==1.0.8.*; extra == \"notebooks\"->azureml-sdk[automl,notebooks])\n",
      "  Downloading https://files.pythonhosted.org/packages/ac/c6/44694103f8c221443ee6b0041f69e2740d89a25641e62fb4f2ee568f2f9c/entrypoints-0.3-py2.py3-none-any.whl\n",
      "Collecting mistune>=0.8.1 (from nbconvert->notebook>=4.4.1->widgetsnbextension~=3.4.0->ipywidgets>=7.0.0->azureml-widgets==1.0.8.*; extra == \"notebooks\"->azureml-sdk[automl,notebooks])\n",
      "  Using cached https://files.pythonhosted.org/packages/09/ec/4b43dae793655b7d8a25f76119624350b4d65eb663459eb9603d7f1f0345/mistune-0.8.4-py2.py3-none-any.whl\n",
      "Collecting pywinpty>=0.5; os_name == \"nt\" (from terminado>=0.8.1->notebook>=4.4.1->widgetsnbextension~=3.4.0->ipywidgets>=7.0.0->azureml-widgets==1.0.8.*; extra == \"notebooks\"->azureml-sdk[automl,notebooks])\n",
      "  Downloading https://files.pythonhosted.org/packages/c3/50/b89e80f9b2fd30e7eebf9815ebdeff79cf0955c2f3217f2322eb1e9f58b3/pywinpty-0.5.5-cp36-cp36m-win_amd64.whl (1.3MB)\n",
      "Collecting MarkupSafe>=0.23 (from jinja2->notebook>=4.4.1->widgetsnbextension~=3.4.0->ipywidgets>=7.0.0->azureml-widgets==1.0.8.*; extra == \"notebooks\"->azureml-sdk[automl,notebooks])\n",
      "  Using cached https://files.pythonhosted.org/packages/9d/80/9a5daf3ed7b8482e72ee138cef602b538cfba5c507e24e39fb95c189b16b/MarkupSafe-1.1.0-cp36-cp36m-win_amd64.whl\n",
      "Collecting webencodings (from bleach->nbconvert->notebook>=4.4.1->widgetsnbextension~=3.4.0->ipywidgets>=7.0.0->azureml-widgets==1.0.8.*; extra == \"notebooks\"->azureml-sdk[automl,notebooks])\n",
      "  Using cached https://files.pythonhosted.org/packages/f4/24/2a3e3df732393fed8b3ebf2ec078f05546de641fe1b667ee316ec1dcf3b7/webencodings-0.5.1-py2.py3-none-any.whl\n",
      "Building wheels for collected packages: antlr4-python3-runtime, pycparser, backcall, prometheus-client, pandocfilters\n",
      "  Running setup.py bdist_wheel for antlr4-python3-runtime: started\n",
      "  Running setup.py bdist_wheel for antlr4-python3-runtime: finished with status 'done'\n",
      "  Stored in directory: C:\\Users\\James Earle\\AppData\\Local\\pip\\Cache\\wheels\\03\\65\\47\\b6700d23b7529a49513f7601b4f96174a4fa9efdbec03e7ea3\n",
      "  Running setup.py bdist_wheel for pycparser: started\n",
      "  Running setup.py bdist_wheel for pycparser: finished with status 'done'\n",
      "  Stored in directory: C:\\Users\\James Earle\\AppData\\Local\\pip\\Cache\\wheels\\f2\\9a\\90\\de94f8556265ddc9d9c8b271b0f63e57b26fb1d67a45564511\n",
      "  Running setup.py bdist_wheel for backcall: started\n",
      "  Running setup.py bdist_wheel for backcall: finished with status 'done'\n",
      "  Stored in directory: C:\\Users\\James Earle\\AppData\\Local\\pip\\Cache\\wheels\\98\\b0\\dd\\29e28ff615af3dda4c67cab719dd51357597eabff926976b45\n",
      "  Running setup.py bdist_wheel for prometheus-client: started\n",
      "  Running setup.py bdist_wheel for prometheus-client: finished with status 'done'\n",
      "  Stored in directory: C:\\Users\\James Earle\\AppData\\Local\\pip\\Cache\\wheels\\1a\\74\\d7\\dc59e0bf44fdfd6395c0076129453abf563e4aeca5d72c8574\n",
      "  Running setup.py bdist_wheel for pandocfilters: started\n",
      "  Running setup.py bdist_wheel for pandocfilters: finished with status 'done'\n",
      "  Stored in directory: C:\\Users\\James Earle\\AppData\\Local\\pip\\Cache\\wheels\\39\\01\\56\\f1b08a6275acc59e846fa4c1e1b65dbc1919f20157d9e66c20\n",
      "Successfully built antlr4-python3-runtime pycparser backcall prometheus-client pandocfilters\n",
      "Installing collected packages: idna, asn1crypto, pycparser, cffi, cryptography, SecretStorage, pytz, PyJWT, chardet, urllib3, requests, python-dateutil, adal, oauthlib, requests-oauthlib, isodate, msrest, msrestazure, azure-common, azure-mgmt-resource, backports.weakref, backports.tempfile, azure-nspkg, azure-mgmt-nspkg, azure-mgmt-keyvault, ruamel.yaml, contextlib2, pyasn1, PyOpenSSL, ndg-httpsclient, pathspec, azure-storage-nspkg, azure-mgmt-authorization, jsonpickle, azure-storage-common, azure-storage-blob, pywin32, pypiwin32, portalocker, azure-cli-nspkg, applicationinsights, azure-cli-telemetry, antlr4-python3-runtime, jmespath, pygments, futures, tabulate, pynacl, bcrypt, paramiko, pyreadline, humanfriendly, wheel, argcomplete, colorama, pyyaml, knack, azure-cli-core, azure-mgmt-containerregistry, docker-pycreds, websocket-client, docker, azure-mgmt-storage, azure-cli-command-modules-nspkg, azure-cli-profile, azure-graphrbac, azureml-core, azureml-pipeline-core, azureml-telemetry, azureml-train-restclients-hyperdrive, azureml-train-core, azureml-pipeline-steps, azureml-pipeline, azureml-train, numpy, scipy, pandas, scikit-learn, sklearn-pandas, lightgbm, JsonSir, python-easyconfig, jsonschema, JsonForm, resource, dill, protobuf, absl-py, markdown, werkzeug, grpcio, tensorboard, astor, gast, termcolor, tensorflow, distro, dotnetcore2, azureml-dataprep-native, azureml-dataprep, azureml-train-automl, backcall, decorator, ipython-genutils, traitlets, wcwidth, prompt-toolkit, parso, jedi, pickleshare, ipython, jupyter-core, nbformat, prometheus-client, tornado, pyzmq, jupyter-client, ipykernel, Send2Trash, webencodings, bleach, defusedxml, pandocfilters, testpath, entrypoints, MarkupSafe, jinja2, mistune, nbconvert, pywinpty, terminado, notebook, widgetsnbextension, ipywidgets, azureml-widgets, azureml-sdk\n",
      "  Found existing installation: wheel 0.32.2\n",
      "    Uninstalling wheel-0.32.2:\n",
      "      Successfully uninstalled wheel-0.32.2\n",
      "  Found existing installation: PyYAML 3.13\n",
      "    Uninstalling PyYAML-3.13:\n",
      "      Successfully uninstalled PyYAML-3.13\n",
      "  Found existing installation: numpy 1.15.4\n",
      "    Uninstalling numpy-1.15.4:\n",
      "      Successfully uninstalled numpy-1.15.4\n",
      "  Found existing installation: scipy 1.2.0\n",
      "    Uninstalling scipy-1.2.0:\n",
      "      Successfully uninstalled scipy-1.2.0\n",
      "Successfully installed JsonForm-0.0.2 JsonSir-0.0.2 MarkupSafe-1.1.0 PyJWT-1.7.1 PyOpenSSL-18.0.0 SecretStorage-2.3.1 Send2Trash-1.5.0 absl-py-0.7.0 adal-1.2.0 antlr4-python3-runtime-4.7.2 applicationinsights-0.11.7 argcomplete-1.9.4 asn1crypto-0.24.0 astor-0.7.1 azure-cli-command-modules-nspkg-2.0.2 azure-cli-core-2.0.55 azure-cli-nspkg-3.0.3 azure-cli-profile-2.1.2 azure-cli-telemetry-1.0.0 azure-common-1.1.17 azure-graphrbac-0.53.0 azure-mgmt-authorization-0.51.1 azure-mgmt-containerregistry-2.6.0 azure-mgmt-keyvault-1.1.0 azure-mgmt-nspkg-3.0.2 azure-mgmt-resource-2.1.0 azure-mgmt-storage-3.1.1 azure-nspkg-3.0.2 azure-storage-blob-1.4.0 azure-storage-common-1.4.0 azure-storage-nspkg-3.1.0 azureml-core-1.0.8 azureml-dataprep-1.0.7 azureml-dataprep-native-11.2.1 azureml-pipeline-1.0.8 azureml-pipeline-core-1.0.8 azureml-pipeline-steps-1.0.8 azureml-sdk-1.0.8 azureml-telemetry-1.0.8 azureml-train-1.0.8 azureml-train-automl-1.0.8 azureml-train-core-1.0.8 azureml-train-restclients-hyperdrive-1.0.8 azureml-widgets-1.0.8 backcall-0.1.0 backports.tempfile-1.0 backports.weakref-1.0.post1 bcrypt-3.1.6 bleach-3.1.0 cffi-1.11.5 chardet-3.0.4 colorama-0.4.1 contextlib2-0.5.5 cryptography-2.4.2 decorator-4.3.0 defusedxml-0.5.0 dill-0.2.8.2 distro-1.3.0 docker-3.7.0 docker-pycreds-0.4.0 dotnetcore2-2.1.7 entrypoints-0.3 futures-3.1.1 gast-0.2.2 grpcio-1.18.0 humanfriendly-4.17 idna-2.8 ipykernel-5.1.0 ipython-7.2.0 ipython-genutils-0.2.0 ipywidgets-7.4.2 isodate-0.6.0 jedi-0.13.2 jinja2-2.10 jmespath-0.9.3 jsonpickle-1.0 jsonschema-2.6.0 jupyter-client-5.2.4 jupyter-core-4.4.0 knack-0.5.1 lightgbm-2.2.1 markdown-3.0.1 mistune-0.8.4 msrest-0.6.4 msrestazure-0.6.0 nbconvert-5.4.0 nbformat-4.4.0 ndg-httpsclient-0.5.1 notebook-5.7.4 numpy-1.14.6 oauthlib-3.0.0 pandas-0.23.4 pandocfilters-1.4.2 paramiko-2.4.2 parso-0.3.1 pathspec-0.5.9 pickleshare-0.7.5 portalocker-1.2.1 prometheus-client-0.5.0 prompt-toolkit-2.0.7 protobuf-3.6.1 pyasn1-0.4.5 pycparser-2.19 pygments-2.3.1 pynacl-1.3.0 pypiwin32-223 pyreadline-2.1 python-dateutil-2.7.5 python-easyconfig-0.1.7 pytz-2018.9 pywin32-224 pywinpty-0.5.5 pyyaml-4.2b4 pyzmq-17.1.2 requests-2.21.0 requests-oauthlib-1.2.0 resource-0.2.1 ruamel.yaml-0.15.51 scikit-learn-0.19.1 scipy-1.1.0 sklearn-pandas-1.7.0 tabulate-0.8.2 tensorboard-1.12.2 tensorflow-1.12.0 termcolor-1.1.0 terminado-0.8.1 testpath-0.4.2 tornado-5.1.1 traitlets-4.3.2 urllib3-1.23 wcwidth-0.1.7 webencodings-0.5.1 websocket-client-0.54.0 werkzeug-0.14.1 wheel-0.30.0 widgetsnbextension-3.4.2\n"
     ]
    },
    {
     "name": "stderr",
     "output_type": "stream",
     "text": [
      "azure-cli-core 2.0.55 has requirement azure-mgmt-resource==2.0.0, but you'll have azure-mgmt-resource 2.1.0 which is incompatible.\n"
     ]
    }
   ],
   "source": [
    "import sys\n",
    "! python -m pip install --upgrade azureml-sdk[notebooks,automl]"
   ]
  },
  {
   "cell_type": "code",
   "execution_count": 2,
   "metadata": {},
   "outputs": [
    {
     "name": "stdout",
     "output_type": "stream",
     "text": [
      "Found the config file in: C:\\Users\\jaearle\\Documents\\Code\\PortlandOpenHackChallenges\\aml_config\\config.json\n"
     ]
    },
    {
     "data": {
      "text/plain": [
       "('keras-gear-ws', 'PortlandOpenHack')"
      ]
     },
     "execution_count": 2,
     "metadata": {},
     "output_type": "execute_result"
    }
   ],
   "source": [
    "# sub_key = os.getenv(\"AZURE_SUBSCRIPTION\")\n",
    "model_name = \"keras-gear-cnn-0.8418.h5\"\n",
    "\n",
    "ws = Workspace.from_config()\n",
    "(ws.name, ws.resource_group)"
   ]
  },
  {
   "cell_type": "code",
   "execution_count": 3,
   "metadata": {},
   "outputs": [
    {
     "data": {
      "text/plain": [
       "True"
      ]
     },
     "execution_count": 3,
     "metadata": {},
     "output_type": "execute_result"
    }
   ],
   "source": [
    "os.path.isfile(\"score.py\")"
   ]
  },
  {
   "cell_type": "code",
   "execution_count": 4,
   "metadata": {},
   "outputs": [
    {
     "data": {
      "text/plain": [
       "True"
      ]
     },
     "execution_count": 4,
     "metadata": {},
     "output_type": "execute_result"
    }
   ],
   "source": [
    "os.path.isfile(\"myenv.yml\")"
   ]
  },
  {
   "cell_type": "code",
   "execution_count": 5,
   "metadata": {},
   "outputs": [],
   "source": [
    "image_config = ContainerImage.image_configuration(execution_script = \"score.py\",\n",
    "                                                  runtime = \"python\",\n",
    "                                                  conda_file = \"myenv.yml\",\n",
    "                                                  description = \"Image for Keras CNN gear classification\",\n",
    "                                                  tags = {\"data\": \"gear\", \"type\": \"classification\"})"
   ]
  },
  {
   "cell_type": "code",
   "execution_count": 6,
   "metadata": {},
   "outputs": [],
   "source": [
    "aci_config = AciWebservice.deploy_configuration(cpu_cores = 1, \n",
    "                                               memory_gb = 1, \n",
    "                                               tags = {\"data\": \"gear\", \"type\": \"classification\"},\n",
    "                                               description = 'Gear classification')"
   ]
  },
  {
   "cell_type": "code",
   "execution_count": 7,
   "metadata": {},
   "outputs": [
    {
     "name": "stdout",
     "output_type": "stream",
     "text": [
      "Registering model keras-gear-cnn-0.8418.h5\n",
      "Creating image\n",
      "Image creation operation finished for image keras-gear-svc:2, operation \"Succeeded\"\n",
      "Creating service\n",
      "Running......................................\n",
      "SucceededACI service creation operation finished, operation \"Succeeded\"\n",
      "Healthy\n"
     ]
    }
   ],
   "source": [
    "service_name = 'keras-gear-svc'\n",
    "service = Webservice.deploy(deployment_config = aci_config,\n",
    "                                image_config = image_config,\n",
    "                                model_paths = [model_name],\n",
    "                                name = service_name,\n",
    "                                workspace = ws)\n",
    "\n",
    "service.wait_for_deployment(show_output = True)\n",
    "print(service.state)"
   ]
  },
  {
   "cell_type": "code",
   "execution_count": 8,
   "metadata": {},
   "outputs": [],
   "source": [
    "# service_name = 'keras-gear-svc'\n",
    "# service = Webservice(ws, service_name)"
   ]
  },
  {
   "cell_type": "code",
   "execution_count": 8,
   "metadata": {},
   "outputs": [
    {
     "data": {
      "text/plain": [
       "'http://40.117.229.60:80/score'"
      ]
     },
     "execution_count": 8,
     "metadata": {},
     "output_type": "execute_result"
    }
   ],
   "source": [
    "service.scoring_uri"
   ]
  },
  {
   "cell_type": "code",
   "execution_count": 36,
   "metadata": {
    "scrolled": true
   },
   "outputs": [
    {
     "name": "stdout",
     "output_type": "stream",
     "text": [
      "[[0.00012202731886645779, 0.0003532914270181209, 0.0002908363821916282, 0.010527593083679676, 0.9854631423950195, 1.435597027921176e-06, 0.00028719677357003093, 0.0005264599458314478, 6.522625335492194e-05, 0.0012048122007399797, 0.0011358917690813541, 2.2195947167347185e-05]] [[0.00012202730431454256, 0.00035329139791429043, 0.00029083635308779776, 0.010527591221034527, 0.98546302318573, 1.4355968005475006e-06, 0.00028719674446620047, 0.0005264598876237869, 6.522624607896432e-05, 0.001204812084324658, 0.0011358916526660323, 2.2195943529368378e-05]]\n"
     ]
    }
   ],
   "source": [
    "import random\n",
    "import score\n",
    "import json\n",
    "import matplotlib.pyplot as plt\n",
    "x = np.load(\"X_test.npy\")\n",
    "img = random.choice(x)\n",
    "\n",
    "# img.reshape((1, 128, 128, 3))\n",
    "# img.shape\n",
    "input_json = json.dumps({ \"data\": np.asarray(img).tolist() })\n",
    "input_bytes = bytes(input_json, encoding=\"utf8\")\n",
    "\n",
    "score.init()\n",
    "res1 = json.loads(score.run(input_bytes))\n",
    "res2 = json.loads(service.run(input_bytes))\n",
    "print(res1, res2)"
   ]
  },
  {
   "cell_type": "code",
   "execution_count": 37,
   "metadata": {},
   "outputs": [
    {
     "name": "stdout",
     "output_type": "stream",
     "text": [
      "axes 0.012202730431454256\n",
      "boots 0.03532913979142904\n",
      "carabiners 0.029083635308779776\n",
      "crampons 1.0527591221034527\n",
      "gloves 98.546302318573\n",
      "hardshell_jackets 0.00014355968005475006\n",
      "harnesses 0.028719674446620047\n",
      "helmets 0.05264598876237869\n",
      "insulated_jackets 0.006522624607896432\n",
      "pulleys 0.12048120843246579\n",
      "rope 0.11358916526660323\n",
      "tents 0.002219594352936838\n",
      "Top prediction: gloves\n"
     ]
    }
   ],
   "source": [
    "classes = {\n",
    "    0: \"axes\",\n",
    "    1: \"boots\",\n",
    "    2: \"carabiners\",\n",
    "    3: \"crampons\",\n",
    "    4: \"gloves\",\n",
    "    5: \"hardshell_jackets\",\n",
    "    6: \"harnesses\",\n",
    "    7: \"helmets\",\n",
    "    8: \"insulated_jackets\",\n",
    "    9: \"pulleys\",\n",
    "    10: \"rope\",\n",
    "    11: \"tents\"\n",
    "}\n",
    "\n",
    "\n",
    "for i, v in enumerate(res2[0]):\n",
    "    print(classes[i], v*100)\n",
    "\n",
    "print(\"Top prediction: {}\".format(classes[np.argmax(res2[0])]))"
   ]
  },
  {
   "cell_type": "code",
   "execution_count": 38,
   "metadata": {},
   "outputs": [
    {
     "data": {
      "text/plain": [
       "<matplotlib.image.AxesImage at 0x1dd07f3e2b0>"
      ]
     },
     "execution_count": 38,
     "metadata": {},
     "output_type": "execute_result"
    },
    {
     "data": {
      "image/png": "[encoded data removed]",
      "text/plain": [
       "<Figure size 432x288 with 1 Axes>"
      ]
     },
     "metadata": {
      "needs_background": "light"
     },
     "output_type": "display_data"
    }
   ],
   "source": [
    "import matplotlib.pyplot as plt\n",
    "plt.imshow(img)"
   ]
  },
  {
   "cell_type": "code",
   "execution_count": null,
   "metadata": {},
   "outputs": [],
   "source": []
  }
 ],
 "metadata": {
  "kernelspec": {
   "display_name": "Python 3",
   "language": "python",
   "name": "python3"
  },
  "language_info": {
   "codemirror_mode": {
    "name": "ipython",
    "version": 3
   },
   "file_extension": ".py",
   "mimetype": "text/x-python",
   "name": "python",
   "nbconvert_exporter": "python",
   "pygments_lexer": "ipython3",
   "version": "3.6.5"
  }
 },
 "nbformat": 4,
 "nbformat_minor": 2
}
